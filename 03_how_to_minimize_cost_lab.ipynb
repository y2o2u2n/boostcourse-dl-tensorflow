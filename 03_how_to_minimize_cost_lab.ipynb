{
  "nbformat": 4,
  "nbformat_minor": 0,
  "metadata": {
    "colab": {
      "name": "03-how-to-minimize-cost-lab.ipynb",
      "version": "0.3.2",
      "provenance": [],
      "include_colab_link": true
    },
    "kernelspec": {
      "name": "python3",
      "display_name": "Python 3"
    }
  },
  "cells": [
    {
      "cell_type": "markdown",
      "metadata": {
        "id": "view-in-github",
        "colab_type": "text"
      },
      "source": [
        "<a href=\"https://colab.research.google.com/github/y2o2u2n/boostcourse-dl-tensorflow/blob/master/03_how_to_minimize_cost_lab.ipynb\" target=\"_parent\"><img src=\"https://colab.research.google.com/assets/colab-badge.svg\" alt=\"Open In Colab\"/></a>"
      ]
    },
    {
      "metadata": {
        "id": "vkhYDWd1qcZQ",
        "colab_type": "code",
        "colab": {
          "base_uri": "https://localhost:8080/",
          "height": 34
        },
        "outputId": "09e6d754-042c-4ee0-fd02-431f34296543"
      },
      "cell_type": "code",
      "source": [
        "import tensorflow as tf\n",
        "import numpy as np\n",
        "\n",
        "tf.enable_eager_execution()\n",
        "tf.__version__"
      ],
      "execution_count": 1,
      "outputs": [
        {
          "output_type": "execute_result",
          "data": {
            "text/plain": [
              "'1.13.1'"
            ]
          },
          "metadata": {
            "tags": []
          },
          "execution_count": 1
        }
      ]
    },
    {
      "metadata": {
        "id": "OKdIZxIJCTXt",
        "colab_type": "code",
        "colab": {}
      },
      "cell_type": "code",
      "source": [
        "tf.set_random_seed(0)\n",
        "\n",
        "X = [1., 2., 3., 4.]\n",
        "Y = [1., 3., 5., 7.]\n",
        "\n",
        "W = tf.Variable(tf.random_normal([1], -100., 100.))"
      ],
      "execution_count": 0,
      "outputs": []
    },
    {
      "metadata": {
        "id": "EnG1fVkhCt67",
        "colab_type": "code",
        "colab": {
          "base_uri": "https://localhost:8080/",
          "height": 542
        },
        "outputId": "2a3579bd-1417-49fa-ea21-39f01411b003"
      },
      "cell_type": "code",
      "source": [
        "for step in range(300):\n",
        "  hypothesis = W * X\n",
        "  cost = tf.reduce_mean(tf.square(hypothesis - Y))\n",
        "  \n",
        "  alpha = 0.01\n",
        "  gradient = tf.reduce_mean(tf.multiply(tf.multiply(W, X) - Y, X))\n",
        "  descent = W - tf.multiply(alpha, gradient)\n",
        "  W.assign(descent)\n",
        "  \n",
        "  if step % 10 == 0:\n",
        "    print('{:5} | {:10.4f} | {:10.6f}'.format(step, cost.numpy(), W.numpy()[0]))"
      ],
      "execution_count": 11,
      "outputs": [
        {
          "output_type": "stream",
          "text": [
            "    0 | 18332.2188 |  47.398293\n",
            "   10 |  3855.3564 |  22.638384\n",
            "   20 |   810.9046 |  11.283927\n",
            "   30 |   170.6631 |   6.076973\n",
            "   40 |    36.0217 |   3.689155\n",
            "   50 |     7.7069 |   2.594144\n",
            "   60 |     1.7524 |   2.091991\n",
            "   70 |     0.5001 |   1.861713\n",
            "   80 |     0.2368 |   1.756112\n",
            "   90 |     0.1814 |   1.707684\n",
            "  100 |     0.1698 |   1.685477\n",
            "  110 |     0.1673 |   1.675292\n",
            "  120 |     0.1668 |   1.670622\n",
            "  130 |     0.1667 |   1.668481\n",
            "  140 |     0.1667 |   1.667498\n",
            "  150 |     0.1667 |   1.667048\n",
            "  160 |     0.1667 |   1.666842\n",
            "  170 |     0.1667 |   1.666747\n",
            "  180 |     0.1667 |   1.666703\n",
            "  190 |     0.1667 |   1.666684\n",
            "  200 |     0.1667 |   1.666674\n",
            "  210 |     0.1667 |   1.666670\n",
            "  220 |     0.1667 |   1.666668\n",
            "  230 |     0.1667 |   1.666667\n",
            "  240 |     0.1667 |   1.666667\n",
            "  250 |     0.1667 |   1.666667\n",
            "  260 |     0.1667 |   1.666667\n",
            "  270 |     0.1667 |   1.666667\n",
            "  280 |     0.1667 |   1.666667\n",
            "  290 |     0.1667 |   1.666667\n"
          ],
          "name": "stdout"
        }
      ]
    }
  ]
}