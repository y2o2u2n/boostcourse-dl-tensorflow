{
  "nbformat": 4,
  "nbformat_minor": 0,
  "metadata": {
    "colab": {
      "name": "07_1_linear_regression_with_preprocess_decay_l2_loss.ipynb",
      "version": "0.3.2",
      "provenance": [],
      "include_colab_link": true
    },
    "kernelspec": {
      "name": "python3",
      "display_name": "Python 3"
    }
  },
  "cells": [
    {
      "cell_type": "markdown",
      "metadata": {
        "id": "view-in-github",
        "colab_type": "text"
      },
      "source": [
        "<a href=\"https://colab.research.google.com/github/y2o2u2n/boostcourse-dl-tensorflow/blob/master/07_1_linear_regression_with_preprocess_decay_l2_loss.ipynb\" target=\"_parent\"><img src=\"https://colab.research.google.com/assets/colab-badge.svg\" alt=\"Open In Colab\"/></a>"
      ]
    },
    {
      "metadata": {
        "id": "8IM6lz9yzwvl",
        "colab_type": "code",
        "colab": {
          "base_uri": "https://localhost:8080/",
          "height": 34
        },
        "outputId": "8bda2565-7c84-4284-dc35-07e8d742b11c"
      },
      "cell_type": "code",
      "source": [
        "import tensorflow as tf\n",
        "import tensorflow.contrib.eager as tfe\n",
        "import numpy as np\n",
        "\n",
        "tf.enable_eager_execution()\n",
        "tf.set_random_seed(777)  # for reproducibility\n",
        "\n",
        "print(tf.__version__)"
      ],
      "execution_count": 4,
      "outputs": [
        {
          "output_type": "stream",
          "text": [
            "1.13.1\n"
          ],
          "name": "stdout"
        }
      ]
    },
    {
      "metadata": {
        "id": "N5K9KExmz6c2",
        "colab_type": "code",
        "colab": {
          "base_uri": "https://localhost:8080/",
          "height": 297
        },
        "outputId": "4ee930ef-7bcb-46fd-e6bf-73e8366647eb"
      },
      "cell_type": "code",
      "source": [
        "xy = np.array([[828.659973, 833.450012, 908100, 828.349976, 831.659973],\n",
        "               [823.02002, 828.070007, 1828100, 821.655029, 828.070007],\n",
        "               [819.929993, 824.400024, 1438100, 818.97998, 824.159973],\n",
        "               [816, 820.958984, 1008100, 815.48999, 819.23999],\n",
        "               [819.359985, 823, 1188100, 818.469971, 818.97998],\n",
        "               [819, 823, 1198100, 816, 820.450012],\n",
        "               [811.700012, 815.25, 1098100, 809.780029, 813.669983],\n",
        "               [809.51001, 816.659973, 1398100, 804.539978, 809.559998]])\n",
        "\n",
        "x_train = xy[:, 0:-1]\n",
        "y_train = xy[:, [-1]]\n",
        "\n",
        "print(x_train)\n",
        "print(y_train)"
      ],
      "execution_count": 5,
      "outputs": [
        {
          "output_type": "stream",
          "text": [
            "[[8.28659973e+02 8.33450012e+02 9.08100000e+05 8.28349976e+02]\n",
            " [8.23020020e+02 8.28070007e+02 1.82810000e+06 8.21655029e+02]\n",
            " [8.19929993e+02 8.24400024e+02 1.43810000e+06 8.18979980e+02]\n",
            " [8.16000000e+02 8.20958984e+02 1.00810000e+06 8.15489990e+02]\n",
            " [8.19359985e+02 8.23000000e+02 1.18810000e+06 8.18469971e+02]\n",
            " [8.19000000e+02 8.23000000e+02 1.19810000e+06 8.16000000e+02]\n",
            " [8.11700012e+02 8.15250000e+02 1.09810000e+06 8.09780029e+02]\n",
            " [8.09510010e+02 8.16659973e+02 1.39810000e+06 8.04539978e+02]]\n",
            "[[831.659973]\n",
            " [828.070007]\n",
            " [824.159973]\n",
            " [819.23999 ]\n",
            " [818.97998 ]\n",
            " [820.450012]\n",
            " [813.669983]\n",
            " [809.559998]]\n"
          ],
          "name": "stdout"
        }
      ]
    },
    {
      "metadata": {
        "id": "Lik0MGFv2hqM",
        "colab_type": "code",
        "colab": {}
      },
      "cell_type": "code",
      "source": [
        "def normalization(data):\n",
        "    numerator = data - np.min(data, 0)\n",
        "    denominator = np.max(data, 0) - np.min(data, 0)\n",
        "    return numerator / denominator"
      ],
      "execution_count": 0,
      "outputs": []
    },
    {
      "metadata": {
        "id": "zd7leEeP2nOb",
        "colab_type": "code",
        "colab": {
          "base_uri": "https://localhost:8080/",
          "height": 437
        },
        "outputId": "8c77b6f8-2f72-4101-aff8-88130c629a17"
      },
      "cell_type": "code",
      "source": [
        "xy = normalization(xy)\n",
        "print(xy)\n",
        "\n",
        "x_train = xy[:, 0:-1]\n",
        "y_train = xy[:, [-1]]\n",
        "\n",
        "print(x_train)\n",
        "print(y_train)"
      ],
      "execution_count": 7,
      "outputs": [
        {
          "output_type": "stream",
          "text": [
            "[[1.         1.         0.         1.         1.        ]\n",
            " [0.70548491 0.70439552 1.         0.71881783 0.83755792]\n",
            " [0.54412549 0.50274824 0.57608696 0.60646801 0.6606331 ]\n",
            " [0.33890353 0.31368023 0.10869565 0.45989134 0.43800918]\n",
            " [0.51436    0.4258239  0.30434783 0.58504805 0.42624401]\n",
            " [0.49556179 0.4258239  0.31521739 0.48131134 0.49276137]\n",
            " [0.11436064 0.         0.20652174 0.22007776 0.18597238]\n",
            " [0.         0.07747099 0.5326087  0.         0.        ]]\n",
            "[[1.         1.         0.         1.        ]\n",
            " [0.70548491 0.70439552 1.         0.71881783]\n",
            " [0.54412549 0.50274824 0.57608696 0.60646801]\n",
            " [0.33890353 0.31368023 0.10869565 0.45989134]\n",
            " [0.51436    0.4258239  0.30434783 0.58504805]\n",
            " [0.49556179 0.4258239  0.31521739 0.48131134]\n",
            " [0.11436064 0.         0.20652174 0.22007776]\n",
            " [0.         0.07747099 0.5326087  0.        ]]\n",
            "[[1.        ]\n",
            " [0.83755792]\n",
            " [0.6606331 ]\n",
            " [0.43800918]\n",
            " [0.42624401]\n",
            " [0.49276137]\n",
            " [0.18597238]\n",
            " [0.        ]]\n"
          ],
          "name": "stdout"
        }
      ]
    },
    {
      "metadata": {
        "id": "t2sq-SxZ2w44",
        "colab_type": "code",
        "colab": {}
      },
      "cell_type": "code",
      "source": [
        "dataset = tf.data.Dataset.from_tensor_slices((x_train, y_train)).batch(len(x_train))"
      ],
      "execution_count": 0,
      "outputs": []
    },
    {
      "metadata": {
        "id": "yciKdfAJ2y2I",
        "colab_type": "code",
        "colab": {}
      },
      "cell_type": "code",
      "source": [
        "W = tf.Variable(tf.random_normal([4, 1]), dtype=tf.float32)\n",
        "b = tf.Variable(tf.random_normal([1]), dtype=tf.float32)"
      ],
      "execution_count": 0,
      "outputs": []
    },
    {
      "metadata": {
        "id": "cpR8FtyQ24EQ",
        "colab_type": "code",
        "colab": {}
      },
      "cell_type": "code",
      "source": [
        "def linearReg_fn(features):\n",
        "    hypothesis = tf.matmul(features, W) + b\n",
        "    return hypothesis"
      ],
      "execution_count": 0,
      "outputs": []
    },
    {
      "metadata": {
        "id": "2h-WM-4r26Oc",
        "colab_type": "code",
        "colab": {}
      },
      "cell_type": "code",
      "source": [
        "def l2_loss(loss, beta = 0.01):\n",
        "    W_reg = tf.nn.l2_loss(W) # output = sum(t ** 2) / 2\n",
        "    loss = tf.reduce_mean(loss + W_reg * beta)\n",
        "    return loss\n"
      ],
      "execution_count": 0,
      "outputs": []
    },
    {
      "metadata": {
        "id": "nCT_mFQ93Opi",
        "colab_type": "code",
        "colab": {}
      },
      "cell_type": "code",
      "source": [
        "def loss_fn(hypothesis, features, labels, flag = False):\n",
        "    cost = tf.reduce_mean(tf.square(hypothesis - labels))\n",
        "    if(flag):\n",
        "        cost = l2_loss(cost)\n",
        "    return cost\n"
      ],
      "execution_count": 0,
      "outputs": []
    },
    {
      "metadata": {
        "id": "jxAA-Wvh3SmI",
        "colab_type": "code",
        "colab": {}
      },
      "cell_type": "code",
      "source": [
        "is_decay = True\n",
        "starter_learning_rate = 0.1\n",
        "\n",
        "if(is_decay):\n",
        "    global_step = tf.Variable(0, trainable=False)\n",
        "    learning_rate = tf.train.exponential_decay(starter_learning_rate, global_step, 50, 0.96, staircase=True)\n",
        "    optimizer = tf.train.GradientDescentOptimizer(learning_rate)\n",
        "else:\n",
        "    optimizer = tf.train.GradientDescentOptimizer(learning_rate=starter_learning_rate)\n",
        "\n",
        "def grad(hypothesis, features, labels, l2_flag):\n",
        "    with tf.GradientTape() as tape:\n",
        "        loss_value = loss_fn(linearReg_fn(features),features,labels, l2_flag)\n",
        "    return tape.gradient(loss_value, [W,b]), loss_value"
      ],
      "execution_count": 0,
      "outputs": []
    },
    {
      "metadata": {
        "id": "gdwkJKZn3Vip",
        "colab_type": "code",
        "colab": {
          "base_uri": "https://localhost:8080/",
          "height": 282
        },
        "outputId": "065b3955-14a4-42e2-834f-6b9595e162e3"
      },
      "cell_type": "code",
      "source": [
        "EPOCHS = 101\n",
        "\n",
        "for step in range(EPOCHS):\n",
        "    for features, labels  in tfe.Iterator(dataset):\n",
        "        features = tf.cast(features, tf.float32)\n",
        "        labels = tf.cast(labels, tf.float32)\n",
        "        grads, loss_value = grad(linearReg_fn(features), features, labels, False)\n",
        "        optimizer.apply_gradients(grads_and_vars=zip(grads,[W,b]), global_step=global_step)\n",
        "        if step % 10 == 0:\n",
        "            print(\"Iter: {}, Loss: {:.4f}, Learning Rate: {:.8f}\".format(step, loss_value, optimizer._learning_rate()))"
      ],
      "execution_count": 14,
      "outputs": [
        {
          "output_type": "stream",
          "text": [
            "WARNING:tensorflow:From /usr/local/lib/python3.6/dist-packages/tensorflow/python/data/ops/iterator_ops.py:532: colocate_with (from tensorflow.python.framework.ops) is deprecated and will be removed in a future version.\n",
            "Instructions for updating:\n",
            "Colocations handled automatically by placer.\n",
            "Iter: 0, Loss: 1.7346, Learning Rate: 0.10000000\n",
            "Iter: 10, Loss: 0.0745, Learning Rate: 0.10000000\n",
            "Iter: 20, Loss: 0.0438, Learning Rate: 0.10000000\n",
            "Iter: 30, Loss: 0.0273, Learning Rate: 0.10000000\n",
            "Iter: 40, Loss: 0.0181, Learning Rate: 0.10000000\n",
            "Iter: 50, Loss: 0.0128, Learning Rate: 0.09600000\n",
            "Iter: 60, Loss: 0.0099, Learning Rate: 0.09600000\n",
            "Iter: 70, Loss: 0.0080, Learning Rate: 0.09600000\n",
            "Iter: 80, Loss: 0.0068, Learning Rate: 0.09600000\n",
            "Iter: 90, Loss: 0.0060, Learning Rate: 0.09600000\n",
            "Iter: 100, Loss: 0.0054, Learning Rate: 0.09216000\n"
          ],
          "name": "stdout"
        }
      ]
    }
  ]
}
