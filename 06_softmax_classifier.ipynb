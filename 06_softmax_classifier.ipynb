{
  "nbformat": 4,
  "nbformat_minor": 0,
  "metadata": {
    "colab": {
      "name": "06-softmax-classifier.ipynb",
      "version": "0.3.2",
      "provenance": [],
      "include_colab_link": true
    },
    "kernelspec": {
      "name": "python3",
      "display_name": "Python 3"
    }
  },
  "cells": [
    {
      "cell_type": "markdown",
      "metadata": {
        "id": "view-in-github",
        "colab_type": "text"
      },
      "source": [
        "<a href=\"https://colab.research.google.com/github/y2o2u2n/boostcourse-dl-tensorflow/blob/master/06_softmax_classifier.ipynb\" target=\"_parent\"><img src=\"https://colab.research.google.com/assets/colab-badge.svg\" alt=\"Open In Colab\"/></a>"
      ]
    },
    {
      "metadata": {
        "id": "Wc8Qiw4exSaR",
        "colab_type": "code",
        "colab": {
          "base_uri": "https://localhost:8080/",
          "height": 139
        },
        "outputId": "ed3c7881-5f0c-40d1-d8f6-d0ba981cb58d"
      },
      "cell_type": "code",
      "source": [
        "import tensorflow as tf\n",
        "import numpy as np\n",
        "tf.enable_eager_execution()\n",
        "tf.set_random_seed(777)  # for reproducibility\n",
        "tfe = tf.contrib.eager"
      ],
      "execution_count": 1,
      "outputs": [
        {
          "output_type": "stream",
          "text": [
            "\n",
            "WARNING: The TensorFlow contrib module will not be included in TensorFlow 2.0.\n",
            "For more information, please see:\n",
            "  * https://github.com/tensorflow/community/blob/master/rfcs/20180907-contrib-sunset.md\n",
            "  * https://github.com/tensorflow/addons\n",
            "If you depend on functionality not listed there, please file an issue.\n",
            "\n"
          ],
          "name": "stdout"
        }
      ]
    },
    {
      "metadata": {
        "id": "8gZkKDkBxszd",
        "colab_type": "code",
        "colab": {
          "base_uri": "https://localhost:8080/",
          "height": 52
        },
        "outputId": "1ae4c845-5d5e-40d2-8639-ab2c494ea478"
      },
      "cell_type": "code",
      "source": [
        "x_data = [[1, 2, 1, 1],\n",
        "          [2, 1, 3, 2],\n",
        "          [3, 1, 3, 4],\n",
        "          [4, 1, 5, 5],\n",
        "          [1, 7, 5, 5],\n",
        "          [1, 2, 5, 6],\n",
        "          [1, 6, 6, 6],\n",
        "          [1, 7, 7, 7]]\n",
        "y_data = [[0, 0, 1],\n",
        "          [0, 0, 1],\n",
        "          [0, 0, 1],\n",
        "          [0, 1, 0],\n",
        "          [0, 1, 0],\n",
        "          [0, 1, 0],\n",
        "          [1, 0, 0],\n",
        "          [1, 0, 0]]\n",
        "\n",
        "# convert into numpy and float format\n",
        "x_data = np.asarray(x_data, dtype=np.float32)\n",
        "y_data = np.asarray(y_data, dtype=np.float32)\n",
        "\n",
        "# num classes\n",
        "nb_classes = 3\n",
        "\n",
        "print(x_data.shape)\n",
        "print(y_data.shape)"
      ],
      "execution_count": 4,
      "outputs": [
        {
          "output_type": "stream",
          "text": [
            "(8, 4)\n",
            "(8, 3)\n"
          ],
          "name": "stdout"
        }
      ]
    },
    {
      "metadata": {
        "id": "FY3idgkZyRz-",
        "colab_type": "code",
        "colab": {
          "base_uri": "https://localhost:8080/",
          "height": 124
        },
        "outputId": "3aa0d029-c16d-42bf-ef32-80c41eabe960"
      },
      "cell_type": "code",
      "source": [
        "# Weight and bias setting\n",
        "W = tfe.Variable(tf.random_normal([4, nb_classes]), name='weight')\n",
        "b = tfe.Variable(tf.random_normal([nb_classes]), name='bias')\n",
        "variables = [W, b]\n",
        "\n",
        "print(W,b)"
      ],
      "execution_count": 5,
      "outputs": [
        {
          "output_type": "stream",
          "text": [
            "<tf.Variable 'weight:0' shape=(4, 3) dtype=float32, numpy=\n",
            "array([[ 0.7706481 ,  0.37335402, -0.05576323],\n",
            "       [ 0.00358377, -0.5898363 ,  1.5702795 ],\n",
            "       [ 0.2460895 , -0.09918973,  1.4418385 ],\n",
            "       [ 0.3200988 ,  0.526784  , -0.7703731 ]], dtype=float32)> <tf.Variable 'bias:0' shape=(3,) dtype=float32, numpy=array([-1.3080608 , -0.13253094,  0.5513761 ], dtype=float32)>\n"
          ],
          "name": "stdout"
        }
      ]
    },
    {
      "metadata": {
        "id": "6-7SuEC6yrfr",
        "colab_type": "code",
        "colab": {
          "base_uri": "https://localhost:8080/",
          "height": 247
        },
        "outputId": "eeaa032e-9af5-4d1b-df3a-a8787b29a032"
      },
      "cell_type": "code",
      "source": [
        "def hypothesis(X):\n",
        "  return tf.nn.softmax(tf.matmul(x_data, W) + b)\n",
        "\n",
        "print(hypothesis(x_data))"
      ],
      "execution_count": 6,
      "outputs": [
        {
          "output_type": "stream",
          "text": [
            "WARNING:tensorflow:From /usr/local/lib/python3.6/dist-packages/tensorflow/python/ops/resource_variable_ops.py:642: colocate_with (from tensorflow.python.framework.ops) is deprecated and will be removed in a future version.\n",
            "Instructions for updating:\n",
            "Colocations handled automatically by placer.\n",
            "tf.Tensor(\n",
            "[[1.3657196e-02 7.9016238e-03 9.7844124e-01]\n",
            " [3.9259776e-02 1.7034741e-02 9.4370544e-01]\n",
            " [3.8038525e-01 1.6772316e-01 4.5189157e-01]\n",
            " [3.2339048e-01 5.9075940e-02 6.1753362e-01]\n",
            " [3.6299741e-06 6.2072729e-08 9.9999630e-01]\n",
            " [2.6252020e-02 1.0727962e-02 9.6301997e-01]\n",
            " [1.5652511e-05 4.2180278e-07 9.9998391e-01]\n",
            " [2.9407690e-06 3.8113328e-08 9.9999702e-01]], shape=(8, 3), dtype=float32)\n"
          ],
          "name": "stdout"
        }
      ]
    },
    {
      "metadata": {
        "id": "o9KJqCfD1nVE",
        "colab_type": "code",
        "colab": {
          "base_uri": "https://localhost:8080/",
          "height": 174
        },
        "outputId": "facec0fb-5d3b-486e-8fb3-2c28ab9f44dc"
      },
      "cell_type": "code",
      "source": [
        "# Softmax onehot test\n",
        "sample_db = [[8,2,1,4]]\n",
        "sample_db = np.asarray(sample_db, dtype=np.float32)\n",
        "\n",
        "print(hypothesis(sample_db))"
      ],
      "execution_count": 7,
      "outputs": [
        {
          "output_type": "stream",
          "text": [
            "tf.Tensor(\n",
            "[[1.3657196e-02 7.9016238e-03 9.7844124e-01]\n",
            " [3.9259776e-02 1.7034741e-02 9.4370544e-01]\n",
            " [3.8038525e-01 1.6772316e-01 4.5189157e-01]\n",
            " [3.2339048e-01 5.9075940e-02 6.1753362e-01]\n",
            " [3.6299741e-06 6.2072729e-08 9.9999630e-01]\n",
            " [2.6252020e-02 1.0727962e-02 9.6301997e-01]\n",
            " [1.5652511e-05 4.2180278e-07 9.9998391e-01]\n",
            " [2.9407690e-06 3.8113328e-08 9.9999702e-01]], shape=(8, 3), dtype=float32)\n"
          ],
          "name": "stdout"
        }
      ]
    },
    {
      "metadata": {
        "id": "T2oTfO9bzAZd",
        "colab_type": "code",
        "colab": {
          "base_uri": "https://localhost:8080/",
          "height": 34
        },
        "outputId": "441e74b4-c53c-4de3-be65-4dfc7ed876c3"
      },
      "cell_type": "code",
      "source": [
        "def cost_fn(X, Y):\n",
        "  logits = hypothesis(X)\n",
        "  cost = -tf.reduce_sum(Y * tf.log(logits), axis=1)\n",
        "  cost_mean = tf.reduce_mean(cost)\n",
        "  return cost_mean\n",
        "\n",
        "print(cost_fn(x_data, y_data))"
      ],
      "execution_count": 8,
      "outputs": [
        {
          "output_type": "stream",
          "text": [
            "tf.Tensor(6.07932, shape=(), dtype=float32)\n"
          ],
          "name": "stdout"
        }
      ]
    },
    {
      "metadata": {
        "id": "xYJfYpK-1z7f",
        "colab_type": "code",
        "colab": {
          "base_uri": "https://localhost:8080/",
          "height": 34
        },
        "outputId": "62543455-500d-462d-80a3-94b814d59bee"
      },
      "cell_type": "code",
      "source": [
        "x = tf.constant(3.0)\n",
        "with tf.GradientTape() as g:\n",
        "    g.watch(x)\n",
        "    y = x * x # x^2\n",
        "dy_dx = g.gradient(y, x) # Will compute to 6.0\n",
        "print(dy_dx)"
      ],
      "execution_count": 9,
      "outputs": [
        {
          "output_type": "stream",
          "text": [
            "tf.Tensor(6.0, shape=(), dtype=float32)\n"
          ],
          "name": "stdout"
        }
      ]
    },
    {
      "metadata": {
        "id": "w_cxrXhvz9qx",
        "colab_type": "code",
        "colab": {
          "base_uri": "https://localhost:8080/",
          "height": 124
        },
        "outputId": "45f034cf-12be-4046-a70f-b09ebe81b852"
      },
      "cell_type": "code",
      "source": [
        "def grad_fn(X, Y):\n",
        "  with tf.GradientTape() as tape:\n",
        "    cost = cost_fn(X, Y)\n",
        "    grads = tape.gradient(cost, variables)\n",
        "    return grads\n",
        "  \n",
        "print(grad_fn(x_data, y_data))"
      ],
      "execution_count": 10,
      "outputs": [
        {
          "output_type": "stream",
          "text": [
            "[<tf.Tensor: id=117, shape=(4, 3), dtype=float32, numpy=\n",
            "array([[ 0.06914608, -0.6509784 ,  0.5818323 ],\n",
            "       [-1.5221257 , -1.214863  ,  2.7369888 ],\n",
            "       [-1.2473829 , -1.7611003 ,  3.008483  ],\n",
            "       [-1.2014606 , -1.8659232 ,  3.0673838 ]], dtype=float32)>, <tf.Tensor: id=115, shape=(3,), dtype=float32, numpy=array([-0.15212913, -0.34219202,  0.4943211 ], dtype=float32)>]\n"
          ],
          "name": "stdout"
        }
      ]
    },
    {
      "metadata": {
        "id": "fxkZrKcr0PDZ",
        "colab_type": "code",
        "colab": {
          "base_uri": "https://localhost:8080/",
          "height": 384
        },
        "outputId": "45a31d6c-49db-4395-b4d3-7e01519626aa"
      },
      "cell_type": "code",
      "source": [
        "def fit(X, Y, epochs=2000, verbose=100):\n",
        "  optimizer = tf.train.GradientDescentOptimizer(learning_rate=0.1)\n",
        "  for i in range(epochs):\n",
        "    grads = grad_fn(X, Y)\n",
        "    optimizer.apply_gradients(zip(grads, variables))\n",
        "    if (i==0) | ((i+1)%verbose==0):\n",
        "      print('Loss at epoch %d: %f' %(i+1, cost_fn(X,Y).numpy()))\n",
        "      \n",
        "fit(x_data, y_data)"
      ],
      "execution_count": 12,
      "outputs": [
        {
          "output_type": "stream",
          "text": [
            "Loss at epoch 1: 2.849417\n",
            "Loss at epoch 100: 0.684151\n",
            "Loss at epoch 200: 0.613813\n",
            "Loss at epoch 300: 0.558204\n",
            "Loss at epoch 400: 0.508306\n",
            "Loss at epoch 500: 0.461059\n",
            "Loss at epoch 600: 0.415072\n",
            "Loss at epoch 700: 0.369636\n",
            "Loss at epoch 800: 0.324533\n",
            "Loss at epoch 900: 0.280721\n",
            "Loss at epoch 1000: 0.246752\n",
            "Loss at epoch 1100: 0.232798\n",
            "Loss at epoch 1200: 0.221645\n",
            "Loss at epoch 1300: 0.211476\n",
            "Loss at epoch 1400: 0.202164\n",
            "Loss at epoch 1500: 0.193606\n",
            "Loss at epoch 1600: 0.185714\n",
            "Loss at epoch 1700: 0.178415\n",
            "Loss at epoch 1800: 0.171645\n",
            "Loss at epoch 1900: 0.165350\n",
            "Loss at epoch 2000: 0.159483\n"
          ],
          "name": "stdout"
        }
      ]
    },
    {
      "metadata": {
        "id": "VekhvXme0gHo",
        "colab_type": "code",
        "colab": {
          "base_uri": "https://localhost:8080/",
          "height": 192
        },
        "outputId": "e5f6c922-4be0-45d4-986b-0743b89b4a35"
      },
      "cell_type": "code",
      "source": [
        "sample_data = [[2,1,3,2]] # answer_label [[0,0,1]]\n",
        "sample_data = np.asarray(sample_data, dtype=np.float32)\n",
        "\n",
        "a = hypothesis(sample_data)\n",
        "\n",
        "print(a)\n",
        "print(tf.argmax(a, 1)) #index: 2"
      ],
      "execution_count": 13,
      "outputs": [
        {
          "output_type": "stream",
          "text": [
            "tf.Tensor(\n",
            "[[2.1975954e-06 1.2331181e-03 9.9876475e-01]\n",
            " [1.1288547e-03 8.1546679e-02 9.1732454e-01]\n",
            " [2.2205445e-07 1.6418663e-01 8.3581316e-01]\n",
            " [6.3921329e-06 8.5045439e-01 1.4953929e-01]\n",
            " [2.6150796e-01 7.2644740e-01 1.2044536e-02]\n",
            " [1.3783240e-01 8.6214012e-01 2.7417585e-05]\n",
            " [7.4242127e-01 2.5754178e-01 3.6978578e-05]\n",
            " [9.2197531e-01 7.8024112e-02 6.0005914e-07]], shape=(8, 3), dtype=float32)\n",
            "tf.Tensor([2 2 2 1 1 1 0 0], shape=(8,), dtype=int64)\n"
          ],
          "name": "stdout"
        }
      ]
    },
    {
      "metadata": {
        "id": "IP0Yh26r2IWs",
        "colab_type": "code",
        "colab": {
          "base_uri": "https://localhost:8080/",
          "height": 209
        },
        "outputId": "c90575b5-0124-4d0c-b5a2-bcd1653c63a4"
      },
      "cell_type": "code",
      "source": [
        "b = hypothesis(x_data)\n",
        "print(b)\n",
        "print(tf.argmax(b, 1))\n",
        "print(tf.argmax(y_data, 1)) # matches with y_data"
      ],
      "execution_count": 14,
      "outputs": [
        {
          "output_type": "stream",
          "text": [
            "tf.Tensor(\n",
            "[[2.1975954e-06 1.2331181e-03 9.9876475e-01]\n",
            " [1.1288547e-03 8.1546679e-02 9.1732454e-01]\n",
            " [2.2205445e-07 1.6418663e-01 8.3581316e-01]\n",
            " [6.3921329e-06 8.5045439e-01 1.4953929e-01]\n",
            " [2.6150796e-01 7.2644740e-01 1.2044536e-02]\n",
            " [1.3783240e-01 8.6214012e-01 2.7417585e-05]\n",
            " [7.4242127e-01 2.5754178e-01 3.6978578e-05]\n",
            " [9.2197531e-01 7.8024112e-02 6.0005914e-07]], shape=(8, 3), dtype=float32)\n",
            "tf.Tensor([2 2 2 1 1 1 0 0], shape=(8,), dtype=int64)\n",
            "tf.Tensor([2 2 2 1 1 1 0 0], shape=(8,), dtype=int64)\n"
          ],
          "name": "stdout"
        }
      ]
    }
  ]
}