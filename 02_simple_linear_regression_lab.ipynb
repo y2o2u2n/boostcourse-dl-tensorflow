{
  "nbformat": 4,
  "nbformat_minor": 0,
  "metadata": {
    "colab": {
      "name": "02-simple-linear-regression-lab.ipynb",
      "version": "0.3.2",
      "provenance": [],
      "include_colab_link": true
    },
    "kernelspec": {
      "name": "python3",
      "display_name": "Python 3"
    }
  },
  "cells": [
    {
      "cell_type": "markdown",
      "metadata": {
        "id": "view-in-github",
        "colab_type": "text"
      },
      "source": [
        "<a href=\"https://colab.research.google.com/github/y2o2u2n/boostcourse-dl-tensorflow/blob/master/02_simple_linear_regression_lab.ipynb\" target=\"_parent\"><img src=\"https://colab.research.google.com/assets/colab-badge.svg\" alt=\"Open In Colab\"/></a>"
      ]
    },
    {
      "metadata": {
        "id": "vmy07S2EWwQU",
        "colab_type": "code",
        "colab": {}
      },
      "cell_type": "code",
      "source": [
        "import tensorflow as tf\n",
        "tf.enable_eager_execution()"
      ],
      "execution_count": 0,
      "outputs": []
    },
    {
      "metadata": {
        "id": "OfNbJ_3kXGfO",
        "colab_type": "code",
        "colab": {}
      },
      "cell_type": "code",
      "source": [
        "x_data = [1, 2, 3, 4, 5]\n",
        "y_data = [1, 2, 3, 4, 5]\n",
        "\n",
        "W = tf.Variable(2.9)\n",
        "b = tf.Variable(1.1)\n",
        "\n",
        "learning_rate = 0.01"
      ],
      "execution_count": 0,
      "outputs": []
    },
    {
      "metadata": {
        "id": "Ak-W4xzMXIlD",
        "colab_type": "code",
        "outputId": "6db119d2-b60d-4c24-bf59-ee7fdf432d0c",
        "colab": {
          "base_uri": "https://localhost:8080/",
          "height": 209
        }
      },
      "cell_type": "code",
      "source": [
        "for i in range(100+1):\n",
        "  with tf.GradientTape() as tape:\n",
        "    hypothesis = W * x_data + b\n",
        "    cost = tf.reduce_mean(tf.square(hypothesis - y_data))\n",
        "  W_grad, b_grad = tape.gradient(cost, [W, b])\n",
        "  W.assign_sub(learning_rate * W_grad)\n",
        "  b.assign_sub(learning_rate * b_grad)\n",
        "  if i % 10 == 0:\n",
        "    print(\"{:5}|{:10.4f}|{:10.4}|{:10.6f}\".format(i, W.numpy(), b.numpy(), cost))"
      ],
      "execution_count": 16,
      "outputs": [
        {
          "output_type": "stream",
          "text": [
            "    0|    2.4160|     0.964| 53.460011\n",
            "   10|    0.9629|    0.5425|  0.289528\n",
            "   20|    0.8696|    0.4982|  0.046222\n",
            "   30|    0.8676|    0.4799|  0.042182\n",
            "   40|    0.8716|    0.4638|  0.039415\n",
            "   50|    0.8758|    0.4483|  0.036833\n",
            "   60|    0.8800|    0.4334|  0.034421\n",
            "   70|    0.8840|     0.419|  0.032167\n",
            "   80|    0.8878|     0.405|  0.030060\n",
            "   90|    0.8916|    0.3915|  0.028092\n",
            "  100|    0.8952|    0.3785|  0.026252\n"
          ],
          "name": "stdout"
        }
      ]
    },
    {
      "metadata": {
        "id": "FthbP9fNaeJQ",
        "colab_type": "code",
        "outputId": "405bdadb-70fb-4e9d-af0f-8f7d3d172483",
        "colab": {
          "base_uri": "https://localhost:8080/",
          "height": 52
        }
      },
      "cell_type": "code",
      "source": [
        "print(W * 5 + b)\n",
        "print(W * 5.5 + b)"
      ],
      "execution_count": 17,
      "outputs": [
        {
          "output_type": "stream",
          "text": [
            "tf.Tensor(4.854313, shape=(), dtype=float32)\n",
            "tf.Tensor(5.3018956, shape=(), dtype=float32)\n"
          ],
          "name": "stdout"
        }
      ]
    }
  ]
}